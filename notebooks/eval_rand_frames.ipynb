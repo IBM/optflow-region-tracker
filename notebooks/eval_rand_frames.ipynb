{
 "cells": [
  {
   "cell_type": "code",
   "execution_count": 1,
   "metadata": {},
   "outputs": [],
   "source": [
    "# Copyright 2020- IBM Inc. All rights reserved\n",
    "# SPDX-License-Identifier: Apache-2.0"
   ]
  },
  {
   "cell_type": "markdown",
   "metadata": {},
   "source": [
    "This Notebook evaluates the performance of several object trackers, and the optflow_region_tracker, using synthetic \"endoscopic\" videos, which are generated as followed:\n",
    "* An intial frame is read from file\n",
    "  * a slightly smaller \"inner frame\" will be used and moved around, so it can be translated a little without having to extrapolate data\n",
    "* A number of random ROIs are generated\n",
    "* The trackers are initialized with the initial frame and the random ROIs\n",
    "* For `n_frames` iterations:\n",
    "  * a random perspective transform is generated and applied to the original frame as well as the corners of all the ROIs\n",
    "  * the inner frame is translated on the transformed original frame\n",
    "  * the same translation is applied to the transformed ROI corners\n",
    "  * the `frame_generator` generator takes care of the above steps\n",
    "  * random reflections are added to the frame\n",
    "  * the trackers update with the transformed, cropped-translated frame with added reflection\n",
    "  * the true locations of the original ROIs are now quadrilateral, but not rectangles. The Jaccard index of the trackers' predicted ROI positions (rectangles) and the true ROI locations is stored for each tracker and each ROI\n",
    "\n",
    "At the end of this process, there is a Jaccard index for each ROI, each frame, each tracker"
   ]
  },
  {
   "cell_type": "code",
   "execution_count": 1,
   "metadata": {},
   "outputs": [],
   "source": [
    "import importlib, time, os, itertools, sys\n",
    "from string import Template\n",
    "import numpy as np\n",
    "import cv2\n",
    "import matplotlib.pyplot as plt"
   ]
  },
  {
   "cell_type": "code",
   "execution_count": 2,
   "metadata": {},
   "outputs": [],
   "source": [
    "sys.path.append(os.path.abspath('../optflow_region_tracker/'))\n",
    "from performance_eval import video_generation as vg\n",
    "import optflow_region_tracker as ofh"
   ]
  },
  {
   "cell_type": "code",
   "execution_count": 7,
   "metadata": {},
   "outputs": [],
   "source": [
    "# see https://stackoverflow.com/questions/33358611/ipython-notebook-writefile-and-execute-cell-at-the-same-time\n",
    "from IPython.core.magic import register_cell_magic\n",
    "\n",
    "@register_cell_magic\n",
    "def write_and_run(line, cell):\n",
    "    argz = line.split()\n",
    "    file = argz[-1]\n",
    "    mode = 'w'\n",
    "    if len(argz) == 2 and argz[0] == '-a':\n",
    "        mode = 'a'\n",
    "    with open(file, mode) as f:\n",
    "        f.write(cell)\n",
    "    get_ipython().run_cell(cell)"
   ]
  },
  {
   "cell_type": "markdown",
   "metadata": {},
   "source": [
    "## Helper functions"
   ]
  },
  {
   "cell_type": "code",
   "execution_count": 3,
   "metadata": {},
   "outputs": [],
   "source": [
    "cv2_types_of_trackers = ['BOOSTING', 'MIL', 'KCF','TLD', 'MEDIANFLOW', 'GOTURN', 'MOSSE', 'CSRT']\n",
    "# not using 'GOTURN' --> requires additional model weights to be downloaded\n",
    "# 'MOSSE' --> Doesn't even track past the first frame\n",
    "# ['MIL', 'TLD'] are quite slow (order 10x slower than rest)\n",
    "def generate_cv2_tracker(type_of_tracker):\n",
    "    \"\"\"\n",
    "    Create object tracker.\n",
    "    \"\"\"\n",
    "    if type_of_tracker == cv2_types_of_trackers[0]:\n",
    "        tracker = cv2.TrackerBoosting_create()\n",
    "    elif type_of_tracker == cv2_types_of_trackers[1]:\n",
    "        tracker = cv2.TrackerMIL_create()\n",
    "    elif type_of_tracker == cv2_types_of_trackers[2]:\n",
    "        tracker = cv2.TrackerKCF_create()\n",
    "    elif type_of_tracker == cv2_types_of_trackers[3]:\n",
    "        tracker = cv2.TrackerTLD_create()\n",
    "    elif type_of_tracker == cv2_types_of_trackers[4]:\n",
    "        tracker = cv2.TrackerMedianFlow_create()\n",
    "    elif type_of_tracker == cv2_types_of_trackers[5]:\n",
    "        tracker = cv2.TrackerGOTURN_create()\n",
    "    elif type_of_tracker == cv2_types_of_trackers[6]:\n",
    "        tracker = cv2.TrackerMOSSE_create()\n",
    "    elif type_of_tracker == cv2_types_of_trackers[7]:\n",
    "        tracker = cv2.TrackerCSRT_create()\n",
    "    else:\n",
    "        tracker = None\n",
    "        print('The name of the tracker is incorrect')\n",
    "        print('Here are the possible trackers:')\n",
    "        for track_type in cv2_types_of_trackers:\n",
    "                      print(track_type)\n",
    "        raise ValueError\n",
    "    return tracker\n",
    "\n",
    "def generate_cv2_multitracker(type_of_tracker, frame0, ROIs):\n",
    "    multitracker = cv2.MultiTracker_create()\n",
    "    for rr in ROIs:\n",
    "        multitracker.add(generate_cv2_tracker(type_of_tracker), frame0, tuple(rr))\n",
    "    return multitracker\n",
    "\n",
    "def generate_optflow_tracker(frame0, ROIs, fit_flow_fun, label=None):\n",
    "    dis = cv2.optflow.createOptFlow_DIS(cv2.optflow.DISOPTICAL_FLOW_PRESET_MEDIUM)\n",
    "    label=' '.join(('DIS_flow',fit_flow_fun)) if label is None else label\n",
    "    return ofh.optflow_tracker(dis, frame0,\n",
    "            ROIs,\n",
    "            fit_flow_fun=fit_flow_fun,\n",
    "            label=label,\n",
    "            convert_to_gray=True,\n",
    "            forward_backward=False)  \n",
    "\n",
    "def random_rois(n=1, frame_wh=(480,360), min_wh_max_wh=(15,15,45,45), margin_xy=(20,20)):\n",
    "    \"\"\"Generate random ROIs (left, top, width, height) within the provided parameters\"\"\"\n",
    "    w,h = frame_wh\n",
    "    mx, my = margin_xy\n",
    "    C1 = np.hstack( (np.random.randint(mx, w-mx-min_wh_max_wh[0], size=(n,1))   ,\n",
    "                        np.random.randint(my, h-my-min_wh_max_wh[1], size=(n,1)   ),\n",
    "                        np.random.randint(min_wh_max_wh[0], min_wh_max_wh[2], size=(n,1)),  \n",
    "                        np.random.randint(min_wh_max_wh[1], min_wh_max_wh[3], size=(n,1))  \n",
    "                    )   )\n",
    "    # these are the indices where the [right, top] exceeds the margins\n",
    "    exceeding = (C1 @ np.array([[1,0,1,0],[0,1,0,1]]).T) > np.array([[w-mx, h-my]])\n",
    "    # we fix this by moving them [left,up]\n",
    "    C1[exceeding[:,0], 0] -= (min_wh_max_wh[2]-min_wh_max_wh[0])\n",
    "    C1[exceeding[:,1], 1] -= (min_wh_max_wh[3]-min_wh_max_wh[1])\n",
    "    return C1 \n",
    "\n",
    "def rects_to_corners(rects: np.array):\n",
    "    \"\"\"Convert [left, top, width, height] rectangles into representation by the 4 corners.\n",
    "    In: (n,4) array, each row a rectangle\n",
    "    Out: (4*n, 2) array, each rectangle a (4,2) block of (x,y) coordinates\"\"\"\n",
    "    return np.vstack(\n",
    "        [r[:2]+np.array([[0,0],[r[2],0],[r[2],r[3]],[0,r[3]]]) for r in rects ]\n",
    "    )\n",
    "def corners_to_rects(corners):\n",
    "    \"\"\"Inverse of `rects_to_corners`\"\"\"\n",
    "    return np.vstack(\n",
    "        [ [corners[ii+0,0], corners[ii+0,1],corners[ii+1,0]-corners[ii+0,0], corners[ii+2,1]-corners[ii+1,1]]\n",
    "         for ii in np.arange(0,corners.shape[0], step=4)\n",
    "         ]\n",
    "    )\n",
    "def plot_rect(rect, ax, **kwargs):\n",
    "    \"\"\"plot the rectangle `rect` in axis `ax`.\"\"\"\n",
    "    x,y,w,h = rect\n",
    "    ax.plot( [x, x+w, x+w, x, x], [y, y, y+h, y+h, y], **kwargs  )\n",
    "def plot_rect_cv2(rect, frame, **kwargs):\n",
    "    \"\"\"draw rectangle `rect` onto `frame` using cv2.rectangle.\n",
    "    NOTE: `frame` is mutated.\"\"\"\n",
    "    x,y,w,h = rect\n",
    "    cv2.rectangle(frame, (int(x), int(y)), (int(x+w), int(y+h)), **kwargs)"
   ]
  },
  {
   "cell_type": "markdown",
   "metadata": {},
   "source": [
    "# Config Cell"
   ]
  },
  {
   "cell_type": "code",
   "execution_count": 8,
   "metadata": {},
   "outputs": [],
   "source": [
    "%%write_and_run tmp.txt\n",
    "# initial frames to generate videos from\n",
    "data_folder = os.path.abspath('../data/frames/')  #  this folder should contain some frames that can be used for video generation\n",
    "frame0_filenames = sorted(os.listdir(data_folder))\n",
    "n_frames0 = len(frame0_filenames)\n",
    "# numpy file to store stuff in\n",
    "results_store_folder = os.path.expanduser('~/tmp/MICCAI2022/')  #  will throw exception if folders don't exist\n",
    "npz_filename_template = Template(\"PerfEvalResults_${timestamp}.NPZ\")\n",
    "# if videos are to be stored\n",
    "video_store_folder = os.path.expanduser('~/tmp/MICCAI2022/') #  will throw exception if folders don't exist\n",
    "videofilename_template =  Template( \n",
    "                os.path.join( video_store_folder, \"${frame0_name}_${timestamp}s.MP4\")\n",
    ")\n",
    "\n",
    "# things to iterate over\n",
    "n_frames = 50\n",
    "n_frames_slow = 10  #  number of frames the slow trackers get to track\n",
    "n_rois = 10\n",
    "max_rots_deg = [0.0, 5.0, 10.0]  # in deg\n",
    "N_reflections = [0, 10, 25]  # Needs to be int type! \n",
    "refl_size_minmax = (8,30)\n",
    "\n",
    "# cv2 Trackers\n",
    "cv2trackers_to_use = [ 'KCF', 'MEDIANFLOW', 'BOOSTING','CSRT', 'MIL', 'TLD']\n",
    "slow_trackers_last_n = 4  #  designates the trackers cv2trackers_to_use[-slow_trackers_last_n:] as slow \n",
    "n_cv2trackers_fast = len(cv2trackers_to_use) - slow_trackers_last_n\n",
    "\n",
    "# our Tracker\n",
    "fit_flow_funs = ['median','affine']\n",
    "n_our_tracker = len(fit_flow_funs)\n",
    "# frame generation\n",
    "WH = (440,330)\n",
    "max_shear=3\n",
    "max_translation_speed=3\n",
    "min_max_elation_scale=(.95,1.04)\n",
    "min_max_scale=(.97,1.03)\n",
    "\n",
    "reflection_blur = (int(2*(refl_size_minmax[0]//2)+1), )*2\n",
    "# ROI generation\n",
    "margin_xy=(50,50)\n",
    "min_wh_max_wh=(20,20,80,90)\n",
    "\n",
    "# Pre-alloc\n",
    "JACC = np.zeros(\n",
    "    shape=(\n",
    "        n_frames, n_frames0, n_rois, len(N_reflections), len(max_rots_deg), n_our_tracker + n_cv2trackers_fast\n",
    "            )\n",
    "    ) + np.nan\n",
    "JACC_slow = JACC[:n_frames_slow, ..., -slow_trackers_last_n:].copy()\n",
    "T_update = np.zeros(\n",
    "    shape=(n_frames0, len(N_reflections), len(max_rots_deg), n_our_tracker+n_cv2trackers_fast+slow_trackers_last_n),\n",
    "          dtype=np.single)\n",
    "# FLAGS\n",
    "store_videos_FLAG = False\n",
    "# the video storage isn't yet implemented"
   ]
  },
  {
   "cell_type": "markdown",
   "metadata": {},
   "source": [
    "# LOOP\n",
    "Indexing: `n_frames, n_frames0, n_rois, N_reflections, max_rot, tracker`"
   ]
  },
  {
   "cell_type": "code",
   "execution_count": null,
   "metadata": {},
   "outputs": [
    {
     "name": "stdout",
     "output_type": "stream",
     "text": [
      "this took 61.6150567040022s\n",
      "this took 131.20866174600087s\n",
      "this took 193.4226039020068s\n",
      "this took 253.5186637700026s\n",
      "this took 313.68113333700603s\n",
      "this took 371.5463719340041s\n",
      "this took 431.0297729810045s\n",
      "this took 491.5662630190054s\n",
      "this took 552.5781851630018s\n",
      "this took 613.8372333020016s\n",
      "this took 672.4799528680014s\n",
      "this took 730.6897572310045s\n",
      "this took 786.2608002430061s\n",
      "this took 842.478254888003s\n"
     ]
    }
   ],
   "source": [
    "config_cell_filename = f\"Config_cell_{time.strftime('%Y%m%d_%H%M%S')}.txt\"\n",
    "npz_file = npz_filename_template.substitute(timestamp=time.strftime('%Y%m%d_%H%M%S'))\n",
    "os.rename(\"tmp.txt\", os.path.join(results_store_folder, config_cell_filename))\n",
    "# That's the last execution of the config cell above\n",
    "t0 = time.perf_counter()\n",
    "for ff00, frame0_fname in enumerate(frame0_filenames):\n",
    "    frame0 = cv2.imread(os.path.join(data_folder, frame0_fname))\n",
    "    # generate ROIs\n",
    "    ROIs = random_rois(n=n_rois, frame_wh=WH, margin_xy=margin_xy, min_wh_max_wh=min_wh_max_wh)\n",
    "    ROI_corners = rects_to_corners(ROIs)\n",
    "    for mmrr, max_rot in enumerate(max_rots_deg):\n",
    "        max_rot = max_rot*np.pi/180\n",
    "        framegen = vg.frame_generator(\n",
    "            frame0,\n",
    "            points=ROI_corners,\n",
    "            wh=WH,\n",
    "            max_shear=max_shear,\n",
    "            max_translation_speed=max_translation_speed,\n",
    "            min_max_elation_scale=min_max_elation_scale,\n",
    "            min_max_scale=min_max_scale,\n",
    "            max_rot=max_rot\n",
    "        )\n",
    "        frame00, _ = next(framegen)\n",
    "        if store_videos_FLAG:\n",
    "            frame_to_draw_on = frame00.copy()\n",
    "            # rest about video gen here\n",
    "        trackers = [ \n",
    "                    [generate_optflow_tracker(frame00, ROIs, fit_flow_fun) for fit_flow_fun in fit_flow_funs] + \n",
    "                    [generate_cv2_multitracker(tracker_type, frame00, ROIs) for tracker_type in cv2trackers_to_use]\n",
    "                    for n_reflection in N_reflections\n",
    "                    ]\n",
    "        for ff in range(n_frames):\n",
    "            # produce next reflection-free frame\n",
    "            nxt_frame, nxt_pts = next(framegen)\n",
    "            if store_videos_FLAG: frame_to_draw_on = nxt_frame.copy()\n",
    "            # now for each number of reflections, update tracker etc\n",
    "            for nnrr, n_reflection in enumerate(N_reflections):\n",
    "                if n_reflection>0:\n",
    "                    # reflections\n",
    "                    refl_origins = np.hstack((np.random.randint(0,WH[0],(n_reflection,1)),\n",
    "                        np.random.randint(0,WH[1],(n_reflection,1))\n",
    "                        ))\n",
    "                    refl_sizes = np.random.randint(refl_size_minmax[0], refl_size_minmax[1], (n_reflection,2), dtype=int)\n",
    "                    rand_reflections = np.dstack( [\n",
    "                        vg.synthetic_reflection(WH, refl_origins[r,:], el_size_wh=tuple(refl_sizes[r,:]), blur=reflection_blur)\n",
    "                                        for r in range(n_reflection)] )\n",
    "                    R = np.sum( rand_reflections*(rand_reflections/255.), axis=2, keepdims=True)                \n",
    "                    nxt_frame_reflections = np.uint8( nxt_frame*(1-R/255.) + R*(R/255.) )\n",
    "                else:\n",
    "                    nxt_frame_reflections = nxt_frame.copy()\n",
    "                # update all the trackers\n",
    "                # leave out the slow trackers after n_frames_slow\n",
    "                slice_in_use = slice(0, None if ff<n_frames_slow else -slow_trackers_last_n)\n",
    "                tracker_returns = []\n",
    "                for tt, tracker in enumerate(trackers[nnrr][slice_in_use]):\n",
    "                    t00 = time.perf_counter()\n",
    "                    tracker_return = tracker.update(nxt_frame_reflections)\n",
    "                    T_update[ff00, nnrr, mmrr, tt]+=(time.perf_counter()-t00)\n",
    "                    tracker_returns.append( tracker_return )\n",
    "                for tt in range(0, n_our_tracker):\n",
    "                    for rroii, roi in enumerate(trackers[nnrr][tt].rois):\n",
    "                        JACC[ff, ff00, rroii, nnrr, mmrr, tt] = vg.polygon_rect_IoU( nxt_pts[rroii*4:4*rroii+4,:], roi.as_int() )\n",
    "                for tt in range(2,n_our_tracker+n_cv2trackers_fast):\n",
    "                    succ, new_rois2 = tracker_returns[tt]\n",
    "                    for rroii, rect in enumerate(new_rois2):\n",
    "                        JACC[ff, ff00, rroii, nnrr, mmrr, tt] = np.nan if not succ else \\\n",
    "                                                                        vg.polygon_rect_IoU(nxt_pts[rroii*4:4*rroii+4,:], rect )\n",
    "                if ff<n_frames_slow:\n",
    "                    for tt in range(slow_trackers_last_n):\n",
    "                        succ, new_rois2 = tracker_returns[-(tt+1)]\n",
    "                        for rroii, rect in enumerate(new_rois2):\n",
    "                            JACC_slow[ff, ff00, rroii, nnrr, mmrr, slow_trackers_last_n-(tt+1)] = np.nan if not succ else \\\n",
    "                                                                            vg.polygon_rect_IoU(nxt_pts[rroii*4:4*rroii+4,:], rect )\n",
    "        print(f'this took {time.perf_counter()-t0}s')\n",
    "#         break\n",
    "#     break              \n",
    "# Store the results     \n",
    "np.savez_compressed(os.path.join(results_store_folder, npz_file),\n",
    "                    config_cell_filename=config_cell_filename,\n",
    "                    T_update=T_update,\n",
    "                    JACC_slow=JACC_slow,\n",
    "                    JACC=JACC,\n",
    "                    cv2trackers_to_use=cv2trackers_to_use,\n",
    "                    slow_trackers_last_n=slow_trackers_last_n,\n",
    "                    n_frames=n_frames, n_frames_slow=n_frames_slow,\n",
    "                    max_rots_deg=max_rots_deg,\n",
    "                    fit_flow_funs=fit_flow_funs,\n",
    "                    N_reflections=N_reflections,\n",
    "                    total_runtime=(time.perf_counter()-t0)\n",
    "                   )"
   ]
  },
  {
   "cell_type": "markdown",
   "metadata": {},
   "source": [
    "# Below here: Scratchpaper"
   ]
  },
  {
   "cell_type": "code",
   "execution_count": 15,
   "metadata": {},
   "outputs": [
    {
     "data": {
      "text/plain": [
       "array([0.02543059, 0.03565502, 0.04054111, 0.0188827 , 0.18693552,\n",
       "       0.18376849, 0.37831185, 0.24896195])"
      ]
     },
     "execution_count": 15,
     "metadata": {},
     "output_type": "execute_result"
    }
   ],
   "source": [
    "n_frames_counted = np.zeros((len(trackers[0]),))+n_frames; n_frames_counted[-slow_trackers_last_n:] = n_frames_slow\n",
    "T_update[0,2,0,:]/n_frames_counted"
   ]
  },
  {
   "cell_type": "code",
   "execution_count": 14,
   "metadata": {},
   "outputs": [
    {
     "data": {
      "text/plain": [
       "<matplotlib.legend.Legend at 0x7fc3e6aaf4a8>"
      ]
     },
     "execution_count": 14,
     "metadata": {},
     "output_type": "execute_result"
    },
    {
     "data": {
      "image/png": "[encoded data removed]",
      "text/plain": [
       "<Figure size 432x288 with 1 Axes>"
      ]
     },
     "metadata": {
      "needs_background": "light"
     },
     "output_type": "display_data"
    }
   ],
   "source": [
    "plt.plot(JACC[:,0,0,2,0,:])\n",
    "plt.legend(fit_flow_funs+cv2trackers_to_use)"
   ]
  },
  {
   "cell_type": "code",
   "execution_count": 27,
   "metadata": {},
   "outputs": [],
   "source": [
    "#\n",
    "\n",
    "frame = cv2.imread('~/Downloads/Angiodysplasie.jpg')[100:,100:,:]\n",
    "h,w = frame.shape[:2]\n",
    "WH = (w-2*margin_xy[0], h-2*margin_xy[1])\n",
    "n_rois = 1\n",
    "ROIs = random_rois(n=n_rois, frame_wh=WH, margin_xy=margin_xy, min_wh_max_wh=min_wh_max_wh)\n",
    "ROI_corners = rects_to_corners(ROIs)\n",
    "N_frames = 300\n",
    "# reflections\n",
    "N_reflections = 0\n",
    "\n",
    "\n",
    "jacc_indices = np.zeros((N_frames, n_rois, 1+len(cv2trackers_to_use))) + np.nan\n",
    "\n",
    "framegen = vg.frame_generator(\n",
    "    frame,\n",
    "    points=ROI_corners,\n",
    "    wh=WH,\n",
    "    max_shear=max_shear,\n",
    "    max_translation_speed=max_translation_speed,\n",
    "    min_max_elation_scale=min_max_elation_scale,\n",
    "    min_max_scale=min_max_scale,\n",
    "    max_rot=5*np.pi/180\n",
    ")\n",
    "\n",
    "frame0, _ = next(framegen)  # returns the undistorted frame\n",
    "\n",
    "# fit_flow_fun = 'median'\n",
    "# dis = cv2.optflow.createOptFlow_DIS(cv2.optflow.DISOPTICAL_FLOW_PRESET_MEDIUM)\n",
    "# tracker = ofh.optflow_tracker(dis, frame0,\n",
    "#             ROIs,\n",
    "#             fit_flow_fun=fit_flow_fun,\n",
    "#             label=' '.join(('DIS_flow',fit_flow_fun)),\n",
    "#             convert_to_gray=True,\n",
    "#             forward_backward=False)         \n",
    "# tracker.time_spent_updating = 0.0\n",
    "\n",
    "# cv2tracker = [ cv2.MultiTracker_create() for tt in cv2trackers_to_use]\n",
    "# cv2tracker_time_spent_updating = [0.0]*len(cv2tracker)\n",
    "# for ii,tt in enumerate(cv2trackers_to_use):\n",
    "#     for rr in ROIs:\n",
    "#         cv2tracker[ii].add(generate_tracker(tt), frame0, tuple(rr))\n",
    "\n"
   ]
  },
  {
   "cell_type": "code",
   "execution_count": 47,
   "metadata": {},
   "outputs": [],
   "source": [
    "# writer = cv2.VideoWriter(f'~/tmp/test_{time.strftime(\"%Hh%M\")}.mp4', cv2.VideoWriter_fourcc(*'avc1'), 5, WH, True)\n",
    "# If adding fake NIR:\n",
    "writer = cv2.VideoWriter(f'~/tmp/test_{time.strftime(\"%Hh%M\")}.mp4', cv2.VideoWriter_fourcc(*'avc1'), 5, (WH[0], 2*WH[1]), True)\n",
    "def fake_NIR(vis, nframe, channel=0):\n",
    "    t = n_frame/N_frames\n",
    "    x = 4 * t * (1-t)\n",
    "    return np.dstack( (vis[:,:,channel]*x + 5*np.random.rand(WH[1], WH[0]),)*3).astype(np.uint8)\n",
    "    \n",
    "frame00 = frame0.copy()\n",
    "\n",
    "# for ii in range(0,ROI_corners.shape[0],4):\n",
    "#         cv2.polylines(\tframe00, [ROI_corners[ii:ii+4,:].astype(np.int32)], True, (0,255,0))\n",
    "writer.write(frame00)\n",
    "n_frame = 0\n",
    "jacc_indices[n_frame, :] = 1\n",
    "for jj in range(N_frames):\n",
    "    nxt_frame, nxt_pts = next(framegen)\n",
    "    # reflections\n",
    "    refl_origins = np.hstack((np.random.randint(0,WH[0],(N_reflections,1)),\n",
    "                        np.random.randint(0,WH[1],(N_reflections,1))\n",
    "                        ))\n",
    "    refl_sizes = np.random.randint(refl_size_minmax[0], refl_size_minmax[1],\n",
    "                                    (N_reflections,2), dtype=int)\n",
    "    if N_reflections>0:\n",
    "        rand_reflections = np.dstack( [\n",
    "vg.synthetic_reflection(WH, refl_origins[r,:], el_size_wh=tuple(refl_sizes[r,:]), blur=True)\n",
    "                    for r in range(N_reflections)] )\n",
    "        R = np.sum( rand_reflections*(rand_reflections/255.), axis=2, keepdims=True)                \n",
    "        nxt_frame = np.uint8( nxt_frame*(1-R/255.) + R*(R/255.) )\n",
    "    else:\n",
    "        pass\n",
    "    frame_to_draw_on = nxt_frame.copy()\n",
    "    t0 = time.perf_counter()\n",
    "# Trackers:\n",
    "#     succ = tracker.update(nxt_frame)\n",
    "#     tracker.time_spent_updating+=(time.perf_counter()-t0)\n",
    "#     for rr, roi in enumerate(tracker.rois):\n",
    "#         jacc_indices[n_frame, rr, 0] = vg.polygon_rect_IoU(\n",
    "#             nxt_pts[rr*4:4*rr+4,:],\n",
    "#             roi.as_int()        )\n",
    "#     for ii, cv2tt in enumerate(cv2tracker):\n",
    "#         t0 = time.perf_counter()\n",
    "#         succ2, new_rois2 = cv2tt.update(nxt_frame)\n",
    "#         cv2tracker_time_spent_updating[ii]+=(time.perf_counter()-t0)\n",
    "#         # compute IoU and draw results on frame \n",
    "#         for rr, rect in enumerate(new_rois2):\n",
    "#             jacc_indices[n_frame, rr, 1+ii] = np.nan if not succ2 else \\\n",
    "#                 vg.polygon_rect_IoU(nxt_pts[rr*4:4*rr+4,:], rect )\n",
    "#             color = (250,250*rr,250) if succ2 else (0,0,255)\n",
    "#             plot_rect_cv2(rect, frame_to_draw_on, color=color)\n",
    "#     frame_to_draw_on = tracker.overlay_rois(frame_to_draw_on, color=((255,0,0), (0,0,255)))\n",
    "# Draw the true ROI locations\n",
    "#     for ii in range(0,nxt_pts.shape[0],4):\n",
    "#         cv2.polylines(frame_to_draw_on, [nxt_pts[ii:ii+4,:].astype(np.int32)], True, (0,255,0))#[, thickness[, lineType[, shift]]]\t) -> \timg    writer.write()\n",
    "#     writer.write(frame_to_draw_on)\n",
    "    writer.write(np.vstack( (frame_to_draw_on, fake_NIR(nxt_frame, n_frame) ) ) )\n",
    "\n",
    "    n_frame+=1\n",
    "writer.release()"
   ]
  },
  {
   "cell_type": "code",
   "execution_count": 31,
   "metadata": {},
   "outputs": [
    {
     "name": "stdout",
     "output_type": "stream",
     "text": [
      "['MO', 'BOOSTING', 'MIL', 'KCF', 'TLD', 'MEDIANFLOW', 'CSRT']\n",
      "[0.5486209600094298, 3.7604425990066375, 10.22756658900471, 0.5674730649989215, 8.252706274997763, 0.29360711401022854, 4.621811081011401]\n"
     ]
    }
   ],
   "source": [
    "print([tt for tt in ['MO']+cv2trackers_to_use])\n",
    "print([tracker.time_spent_updating] + cv2tracker_time_spent_updating)"
   ]
  },
  {
   "cell_type": "code",
   "execution_count": null,
   "metadata": {},
   "outputs": [],
   "source": [
    "fig, ax = plt.subplots(2,1,figsize=(20,10))\n",
    "linestyles = itertools.cycle(['-', '--',':','-.'])\n",
    "for ii,cc in zip(range(jacc_indices.shape[-1]), linestyles):\n",
    "    ax[0].plot(jacc_indices[:,:,ii], linestyle=cc)\n",
    "ax[0].legend([i for i in range(n_rois)])\n",
    "\n",
    "Pctl = np.nanpercentile(jacc_indices, [50,25,75], axis=(1))\n",
    "ax[1].plot(Pctl[0,...])\n",
    "ax[1].legend([tt for tt in ['MO']+cv2trackers_to_use])\n",
    "print([tt for tt in ['MO']+cv2trackers_to_use])\n",
    "print(np.nanpercentile(jacc_indices, [50,25,75], axis=(0,1)))"
   ]
  },
  {
   "cell_type": "code",
   "execution_count": 4,
   "metadata": {},
   "outputs": [
    {
     "name": "stdout",
     "output_type": "stream",
     "text": [
      "0.0\n"
     ]
    },
    {
     "data": {
      "image/png": "[encoded data removed]",
      "text/plain": [
       "<Figure size 432x288 with 1 Axes>"
      ]
     },
     "metadata": {
      "needs_background": "light"
     },
     "output_type": "display_data"
    }
   ],
   "source": [
    "## Try the random generation of ROIs\n",
    "R = random_rois(n=23, min_wh_max_wh=(20,20,80,80))\n",
    "# check if conversion between [l,t,w,h] and corners is correct\n",
    "Rc = rects_to_corners(R)\n",
    "R2 = corners_to_rects(Rc)\n",
    "print(np.linalg.norm(R-R2))\n",
    "#\n",
    "ax = plt.axes()\n",
    "for r in R2:\n",
    "    plot_rect(r, ax)\n",
    "plt.plot(Rc[:,0], Rc[:,1],'x')\n",
    "plt.axis('tight')\n",
    "ax.axvline(20); ax.axvline(460)\n",
    "ax.axhline(20); ax.axhline(340)\n",
    "plt.axis('equal'); ax.invert_yaxis()\n"
   ]
  }
 ],
 "metadata": {
  "interpreter": {
   "hash": "e80f5730d6ecbb7f2d332ea2518aaa5a18490d1604d2d65fb79d6fdbbaca5171"
  },
  "kernelspec": {
   "display_name": "Python [conda env:cv2]",
   "language": "python",
   "name": "conda-env-cv2-py"
  },
  "language_info": {
   "codemirror_mode": {
    "name": "ipython",
    "version": 3
   },
   "file_extension": ".py",
   "mimetype": "text/x-python",
   "name": "python",
   "nbconvert_exporter": "python",
   "pygments_lexer": "ipython3",
   "version": "3.6.7"
  }
 },
 "nbformat": 4,
 "nbformat_minor": 4
}
